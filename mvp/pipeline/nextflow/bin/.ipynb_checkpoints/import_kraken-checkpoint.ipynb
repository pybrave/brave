{
 "cells": [
  {
   "cell_type": "code",
   "execution_count": 4,
   "id": "de98cda8-03b0-4e6a-bf6d-c0165b3d2629",
   "metadata": {},
   "outputs": [],
   "source": [
    "import pandas as pd\n",
    "import pymysql\n",
    "import sys\n",
    "import glob\n",
    "import os\n",
    "from hdfs import InsecureClient\n"
   ]
  },
  {
   "cell_type": "code",
   "execution_count": 18,
   "id": "a347d9ea-52ef-44d3-b8d9-c68a6ddeecdc",
   "metadata": {},
   "outputs": [],
   "source": [
    "client_hdfs = InsecureClient(url='http://10.110.1.11:9870',user=\"wy\")"
   ]
  },
  {
   "cell_type": "code",
   "execution_count": null,
   "id": "0e8d0cbd-dad6-4d7f-844c-5c8ff6ccf099",
   "metadata": {},
   "outputs": [],
   "source": [
    "sample_key = sys.argv[1]\n",
    "sample_name = sys.argv[2]\n",
    "project = sys.argv[3]\n",
    "data_version = sys.argv[4]"
   ]
  },
  {
   "cell_type": "code",
   "execution_count": 8,
   "id": "bfffed62-b3a5-4978-8cda-7571627e1cac",
   "metadata": {},
   "outputs": [],
   "source": [
    "# sample_key = \"test1\"\n",
    "# sample_name = \"test1\"\n",
    "# project = \"test\"\n",
    "# os.chdir(\"/ssd1/wy/workspace2/test/test_workspace/output/bracken/test_s1\")"
   ]
  },
  {
   "cell_type": "code",
   "execution_count": 7,
   "id": "8bfb0c1e-531d-435f-baf9-d498592a823b",
   "metadata": {},
   "outputs": [],
   "source": [
    "content_path = f\"/workspace/{project}/{data_version}/kraken/{sample_key}.tsv\""
   ]
  },
  {
   "cell_type": "code",
   "execution_count": 9,
   "id": "29c0607e-3619-40d8-bcfe-cb0f525af009",
   "metadata": {},
   "outputs": [],
   "source": [
    "file_list = glob.glob(\"*.kraken.tsv\")"
   ]
  },
  {
   "cell_type": "code",
   "execution_count": 10,
   "id": "10e067f0-a4f0-4350-86e2-6916de975e7d",
   "metadata": {},
   "outputs": [
    {
     "data": {
      "text/plain": [
       "['test_s1.P.kraken.tsv',\n",
       " 'test_s1.G.kraken.tsv',\n",
       " 'test_s1.C.kraken.tsv',\n",
       " 'test_s1.K.kraken.tsv',\n",
       " 'test_s1.O.kraken.tsv',\n",
       " 'test_s1.F.kraken.tsv',\n",
       " 'test_s1.D.kraken.tsv',\n",
       " 'test_s1.S.kraken.tsv',\n",
       " 'test_s1.S1.kraken.tsv']"
      ]
     },
     "execution_count": 10,
     "metadata": {},
     "output_type": "execute_result"
    }
   ],
   "source": [
    "file_list"
   ]
  },
  {
   "cell_type": "code",
   "execution_count": 11,
   "id": "b2cc9910-576f-4f53-9810-6e88d6d8a757",
   "metadata": {},
   "outputs": [],
   "source": [
    "def read_kraken(file):\n",
    "    df = pd.read_csv(file,sep=\"\\t\")\n",
    "    df['relative_abundance'] = df.apply(lambda x: (x['new_est_reads']/sum( df['new_est_reads']))*100  ,axis=1)\n",
    "    return df"
   ]
  },
  {
   "cell_type": "code",
   "execution_count": 12,
   "id": "8ea0125f-9d13-4bbf-bc46-c69b06ef2ed5",
   "metadata": {},
   "outputs": [],
   "source": [
    "df_list = [ read_kraken(file) for file in  file_list]"
   ]
  },
  {
   "cell_type": "code",
   "execution_count": 13,
   "id": "3b98f1d1-d036-476a-88fb-f815ac708e38",
   "metadata": {},
   "outputs": [],
   "source": [
    "def rename_taxonomy_lvl(name):\n",
    "    if name=='D':\n",
    "        return \"DOMAIN\"\n",
    "    elif name==\"S\":\n",
    "        return \"SPECIES\"\n",
    "    elif  name==\"G\":\n",
    "        return \"GENUS\"\n",
    "    elif  name==\"F\":\n",
    "        return \"FAMILY\"\n",
    "    elif  name==\"O\":\n",
    "        return \"ORDER\"\n",
    "    elif  name==\"C\":\n",
    "        return \"CLASS\"\n",
    "    elif  name==\"P\":\n",
    "        return \"PHYLUM\"\n",
    "    elif  name==\"K\":\n",
    "        return \"KINGDOM\"\n",
    "    elif  name == \"S1\":\n",
    "        return \"SGB\""
   ]
  },
  {
   "cell_type": "code",
   "execution_count": 83,
   "id": "ad20cb18-11aa-4ffb-be09-6e7adb9efdda",
   "metadata": {},
   "outputs": [],
   "source": [
    "# sum(df_list[1]['fraction_total_reads'])\n",
    "# sum(df_list[1]['relative_abundance'])"
   ]
  },
  {
   "cell_type": "code",
   "execution_count": null,
   "id": "98376775-e094-4704-97f7-ad8d92ef8fe9",
   "metadata": {},
   "outputs": [],
   "source": [
    "# 域（Domain）、界（Kingdom）、门（Phylum）、纲（Class）、目（Order）、科（Family）、属（Genus）、种（Species）\n",
    "# k__Bacteria|p__Fusobacteria|c__Fusobacteriia|o__Fusobacteriales|f__Fusobacteriaceae|g__Fusobacterium|s__Fusobacterium_nucleatum|t__SGB6001"
   ]
  },
  {
   "cell_type": "code",
   "execution_count": 14,
   "id": "2e7df2fe-20c6-45e5-8a5b-e93823258819",
   "metadata": {},
   "outputs": [
    {
     "data": {
      "text/html": [
       "<div>\n",
       "<style scoped>\n",
       "    .dataframe tbody tr th:only-of-type {\n",
       "        vertical-align: middle;\n",
       "    }\n",
       "\n",
       "    .dataframe tbody tr th {\n",
       "        vertical-align: top;\n",
       "    }\n",
       "\n",
       "    .dataframe thead th {\n",
       "        text-align: right;\n",
       "    }\n",
       "</style>\n",
       "<table border=\"1\" class=\"dataframe\">\n",
       "  <thead>\n",
       "    <tr style=\"text-align: right;\">\n",
       "      <th></th>\n",
       "      <th>taxonomy</th>\n",
       "      <th>tax_id</th>\n",
       "      <th>rank</th>\n",
       "      <th>relative_abundance</th>\n",
       "      <th>kraken_assigned_reads</th>\n",
       "      <th>new_est_reads</th>\n",
       "    </tr>\n",
       "  </thead>\n",
       "  <tbody>\n",
       "    <tr>\n",
       "      <th>0</th>\n",
       "      <td>Bacteroidota</td>\n",
       "      <td>976</td>\n",
       "      <td>PHYLUM</td>\n",
       "      <td>45.821695</td>\n",
       "      <td>43943</td>\n",
       "      <td>43965</td>\n",
       "    </tr>\n",
       "    <tr>\n",
       "      <th>1</th>\n",
       "      <td>Fusobacteriota</td>\n",
       "      <td>32066</td>\n",
       "      <td>PHYLUM</td>\n",
       "      <td>36.266519</td>\n",
       "      <td>34661</td>\n",
       "      <td>34797</td>\n",
       "    </tr>\n",
       "    <tr>\n",
       "      <th>2</th>\n",
       "      <td>Bacillota</td>\n",
       "      <td>1239</td>\n",
       "      <td>PHYLUM</td>\n",
       "      <td>9.908492</td>\n",
       "      <td>9331</td>\n",
       "      <td>9507</td>\n",
       "    </tr>\n",
       "    <tr>\n",
       "      <th>3</th>\n",
       "      <td>Actinomycetota</td>\n",
       "      <td>201174</td>\n",
       "      <td>PHYLUM</td>\n",
       "      <td>0.429399</td>\n",
       "      <td>412</td>\n",
       "      <td>412</td>\n",
       "    </tr>\n",
       "    <tr>\n",
       "      <th>4</th>\n",
       "      <td>Mycoplasmatota</td>\n",
       "      <td>544448</td>\n",
       "      <td>PHYLUM</td>\n",
       "      <td>0.017718</td>\n",
       "      <td>17</td>\n",
       "      <td>17</td>\n",
       "    </tr>\n",
       "    <tr>\n",
       "      <th>...</th>\n",
       "      <td>...</td>\n",
       "      <td>...</td>\n",
       "      <td>...</td>\n",
       "      <td>...</td>\n",
       "      <td>...</td>\n",
       "      <td>...</td>\n",
       "    </tr>\n",
       "    <tr>\n",
       "      <th>333</th>\n",
       "      <td>Neisseria elongata subsp. glycolytica</td>\n",
       "      <td>88719</td>\n",
       "      <td>SGB</td>\n",
       "      <td>0.301556</td>\n",
       "      <td>38</td>\n",
       "      <td>168</td>\n",
       "    </tr>\n",
       "    <tr>\n",
       "      <th>334</th>\n",
       "      <td>Neisseria sp. oral taxon 014 str. F0314</td>\n",
       "      <td>641149</td>\n",
       "      <td>SGB</td>\n",
       "      <td>0.556443</td>\n",
       "      <td>51</td>\n",
       "      <td>310</td>\n",
       "    </tr>\n",
       "    <tr>\n",
       "      <th>335</th>\n",
       "      <td>Neisseria macacae ATCC 33926</td>\n",
       "      <td>997348</td>\n",
       "      <td>SGB</td>\n",
       "      <td>0.850819</td>\n",
       "      <td>28</td>\n",
       "      <td>474</td>\n",
       "    </tr>\n",
       "    <tr>\n",
       "      <th>336</th>\n",
       "      <td>Aggregatibacter aphrophilus NJ8700</td>\n",
       "      <td>634176</td>\n",
       "      <td>SGB</td>\n",
       "      <td>0.280017</td>\n",
       "      <td>20</td>\n",
       "      <td>156</td>\n",
       "    </tr>\n",
       "    <tr>\n",
       "      <th>337</th>\n",
       "      <td>Aggregatibacter aphrophilus ATCC 33389</td>\n",
       "      <td>985008</td>\n",
       "      <td>SGB</td>\n",
       "      <td>0.326686</td>\n",
       "      <td>13</td>\n",
       "      <td>182</td>\n",
       "    </tr>\n",
       "  </tbody>\n",
       "</table>\n",
       "<p>338 rows × 6 columns</p>\n",
       "</div>"
      ],
      "text/plain": [
       "                                    taxonomy  tax_id    rank  \\\n",
       "0                               Bacteroidota     976  PHYLUM   \n",
       "1                             Fusobacteriota   32066  PHYLUM   \n",
       "2                                  Bacillota    1239  PHYLUM   \n",
       "3                             Actinomycetota  201174  PHYLUM   \n",
       "4                             Mycoplasmatota  544448  PHYLUM   \n",
       "..                                       ...     ...     ...   \n",
       "333    Neisseria elongata subsp. glycolytica   88719     SGB   \n",
       "334  Neisseria sp. oral taxon 014 str. F0314  641149     SGB   \n",
       "335             Neisseria macacae ATCC 33926  997348     SGB   \n",
       "336       Aggregatibacter aphrophilus NJ8700  634176     SGB   \n",
       "337   Aggregatibacter aphrophilus ATCC 33389  985008     SGB   \n",
       "\n",
       "     relative_abundance  kraken_assigned_reads  new_est_reads  \n",
       "0             45.821695                  43943          43965  \n",
       "1             36.266519                  34661          34797  \n",
       "2              9.908492                   9331           9507  \n",
       "3              0.429399                    412            412  \n",
       "4              0.017718                     17             17  \n",
       "..                  ...                    ...            ...  \n",
       "333            0.301556                     38            168  \n",
       "334            0.556443                     51            310  \n",
       "335            0.850819                     28            474  \n",
       "336            0.280017                     20            156  \n",
       "337            0.326686                     13            182  \n",
       "\n",
       "[338 rows x 6 columns]"
      ]
     },
     "execution_count": 14,
     "metadata": {},
     "output_type": "execute_result"
    }
   ],
   "source": [
    "df_kraken = pd.concat(df_list, axis=0, ignore_index=True)\n",
    "df_kraken['rank'] = df_kraken.apply(lambda x:rename_taxonomy_lvl( x['taxonomy_lvl']) ,axis=1)\n",
    "df_kraken = df_kraken.rename({\"name\":\"taxonomy\",\"taxonomy_id\":\"tax_id\"},axis=1)[['taxonomy','tax_id','rank','relative_abundance','kraken_assigned_reads','new_est_reads']]\n",
    "df_kraken"
   ]
  },
  {
   "cell_type": "code",
   "execution_count": 20,
   "id": "518b12c7-801c-4634-b645-c412fcc92b6b",
   "metadata": {},
   "outputs": [
    {
     "name": "stdout",
     "output_type": "stream",
     "text": [
      "rank\n",
      "SPECIES    133\n",
      "GENUS       59\n",
      "FAMILY      44\n",
      "SGB         36\n",
      "ORDER       31\n",
      "CLASS       21\n",
      "PHYLUM      11\n",
      "DOMAIN       2\n",
      "KINGDOM      1\n",
      "Name: count, dtype: int64\n"
     ]
    }
   ],
   "source": [
    "# df_kraken['rank'].value_counts()\n",
    "# df_kraken['taxonomy_lvl'].value_counts()\n",
    "print(df_kraken['rank'].value_counts())"
   ]
  },
  {
   "cell_type": "code",
   "execution_count": 25,
   "id": "98f33b05-28b2-41c6-b353-665ce03f2839",
   "metadata": {},
   "outputs": [
    {
     "name": "stdout",
     "output_type": "stream",
     "text": [
      "/workspace/test/kraken/test1.tsv\n"
     ]
    }
   ],
   "source": [
    "print(content_path)\n",
    "with client_hdfs.write(content_path, encoding = 'utf-8', overwrite=True) as writer:\n",
    "  df_kraken.to_csv(writer,sep=\"\\t\",index=False)"
   ]
  },
  {
   "cell_type": "code",
   "execution_count": 22,
   "id": "18af7049-2c3e-495e-ad7f-6dadfa352cd0",
   "metadata": {},
   "outputs": [
    {
     "name": "stdout",
     "output_type": "stream",
     "text": [
      "\n",
      "INSERT INTO abundance (sample_key, sample_name,project, content_path,software)\n",
      "VALUES (%s,%s, %s,%s,%s)\n",
      "ON DUPLICATE KEY UPDATE \n",
      "    sample_name = VALUES(sample_name), \n",
      "    project = VALUES(project), \n",
      "    software = VALUES(software), \n",
      "    content_path = VALUES(content_path);\n",
      "\n"
     ]
    }
   ],
   "source": [
    "insert_sql = \"\"\"\n",
    "INSERT INTO abundance (sample_key, sample_name,project, content_path,software,data_version)\n",
    "VALUES (%s,%s, %s,%s,%s,%s)\n",
    "ON DUPLICATE KEY UPDATE \n",
    "    sample_name = VALUES(sample_name), \n",
    "    project = VALUES(project), \n",
    "    software = VALUES(software), \n",
    "    data_version = VALUES(data_version), \n",
    "    content_path = VALUES(content_path);\n",
    "\"\"\"\n",
    "print(insert_sql)"
   ]
  },
  {
   "cell_type": "code",
   "execution_count": 23,
   "id": "90c3b6ee-0d3a-451e-a915-722956373189",
   "metadata": {},
   "outputs": [],
   "source": [
    "conn = pymysql.connect(\n",
    "    host='10.110.1.11',    \n",
    "    user='root',         \n",
    "    password='123456',   \n",
    "    database='pipeline',  \n",
    "    port=53306,         \n",
    ")\n",
    "cursor = conn.cursor()\n",
    "data = (sample_key,sample_name,project,content_path,\"kraken\",data_version)\n",
    "cursor.execute(insert_sql, data) \n",
    "conn.commit()\n"
   ]
  },
  {
   "cell_type": "code",
   "execution_count": null,
   "id": "08cdc3c0-a5e7-4a3c-a6c7-f9eb3d622cd0",
   "metadata": {},
   "outputs": [],
   "source": [
    "conn.close()"
   ]
  },
  {
   "cell_type": "code",
   "execution_count": null,
   "id": "54cf5c8d-3ddc-4f9a-af53-a41a07515469",
   "metadata": {},
   "outputs": [],
   "source": []
  }
 ],
 "metadata": {
  "kernelspec": {
   "display_name": "Python 3 (ipykernel)",
   "language": "python",
   "name": "python3"
  },
  "language_info": {
   "codemirror_mode": {
    "name": "ipython",
    "version": 3
   },
   "file_extension": ".py",
   "mimetype": "text/x-python",
   "name": "python",
   "nbconvert_exporter": "python",
   "pygments_lexer": "ipython3",
   "version": "3.11.6"
  }
 },
 "nbformat": 4,
 "nbformat_minor": 5
}
