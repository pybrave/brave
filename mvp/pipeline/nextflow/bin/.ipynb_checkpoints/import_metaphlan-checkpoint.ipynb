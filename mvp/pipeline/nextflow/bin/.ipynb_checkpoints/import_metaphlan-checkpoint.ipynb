{
 "cells": [
  {
   "cell_type": "code",
   "execution_count": 42,
   "id": "9ad83dca-185a-4a8c-919e-c4e88041c1b9",
   "metadata": {},
   "outputs": [],
   "source": [
    "import pandas as pd\n",
    "import pymysql\n",
    "import sys\n",
    "from hdfs import InsecureClient\n",
    "from io import TextIOWrapper\n",
    "import pyarrow.fs as fs\n",
    "from io import BytesIO\n",
    "from io import StringIO\n"
   ]
  },
  {
   "cell_type": "code",
   "execution_count": null,
   "id": "e54d68d6-bcff-40a2-988e-6da908c47c93",
   "metadata": {},
   "outputs": [],
   "source": [
    "file_path = sys.argv[1]\n",
    "sample_key = sys.argv[2]\n",
    "sample_name = sys.argv[3]\n",
    "project = sys.argv[4]\n",
    "data_version = sys.argv[5]"
   ]
  },
  {
   "cell_type": "code",
   "execution_count": 58,
   "id": "013f2061-a624-441b-bca1-a3edfeaa52cf",
   "metadata": {},
   "outputs": [],
   "source": [
    "# file_path = \"/ssd1/wy/workspace2/test/test_workspace/output/metaphlan/test_s1/test_s1_profile.txt\"\n",
    "# sample_key = \"test1\"\n",
    "# sample_name = \"test1\"\n",
    "# project = \"test\""
   ]
  },
  {
   "cell_type": "code",
   "execution_count": 59,
   "id": "2ded6901-8a9a-43f3-9846-74438d73774c",
   "metadata": {},
   "outputs": [],
   "source": [
    "content_path = f\"/workspace/{project}/{data_version}/metaphlan/{sample_key}.tsv\""
   ]
  },
  {
   "cell_type": "code",
   "execution_count": 31,
   "id": "6ab006f5-de2f-4079-8985-fc9711a4ed91",
   "metadata": {},
   "outputs": [],
   "source": [
    "# pd.read_parquet('hdfs:///aaa/helloworld.csv')"
   ]
  },
  {
   "cell_type": "code",
   "execution_count": 32,
   "id": "7bc15a79-5158-4af7-8a29-a7a9a7704b3d",
   "metadata": {},
   "outputs": [],
   "source": [
    "# hdfs = fs.HadoopFileSystem(host='10.110.1.11', port=9870)\n"
   ]
  },
  {
   "cell_type": "code",
   "execution_count": null,
   "id": "d4a8043f-23e1-4877-88bd-9f76f53efd72",
   "metadata": {},
   "outputs": [],
   "source": []
  },
  {
   "cell_type": "code",
   "execution_count": 60,
   "id": "45cd8e81-74fc-4f57-8b74-3584b5b951f1",
   "metadata": {},
   "outputs": [],
   "source": [
    "client_hdfs = InsecureClient(url='http://10.110.1.11:9870',user=\"wy\")"
   ]
  },
  {
   "cell_type": "code",
   "execution_count": 47,
   "id": "89c4f0af-55d6-49d6-85fb-fb3e3232312b",
   "metadata": {},
   "outputs": [],
   "source": [
    "# client_hdfs.list('/aaa')"
   ]
  },
  {
   "cell_type": "code",
   "execution_count": 5,
   "id": "c67b1a23-4715-413f-acea-dc622684a6fb",
   "metadata": {},
   "outputs": [
    {
     "data": {
      "text/plain": [
       "'/abc/F-30-068_marker_counts.txt'"
      ]
     },
     "execution_count": 5,
     "metadata": {},
     "output_type": "execute_result"
    }
   ],
   "source": [
    "# client_hdfs.makedirs('/efg')\n",
    "# client_hdfs.list('/')\n",
    "# client_hdfs.upload(hdfs_path='/abc', local_path='/data/wangyang/nf_work/hexiaoyan/89/d4010b5a5212c77e463ba5d1e621dd/F-30-068_marker_counts.txt')  # 注意目录使用的是正斜杠/，而不是反斜杠\\\n"
   ]
  },
  {
   "cell_type": "code",
   "execution_count": 49,
   "id": "0d3722c7-9c92-4bb5-bb27-37edf304f221",
   "metadata": {},
   "outputs": [],
   "source": [
    "# liste_hello = ['hello1','hello2']\n",
    "# liste_world = ['world1','world2']\n",
    "# df = pd.DataFrame(data = {'hello' : liste_hello, 'world': liste_world})\n",
    "\n",
    "# To write a Dataframe to HDFS.\n",
    "# with client_hdfs.write('/aaa/helloworld.csv', encoding = 'utf-8', overwrite=True) as writer:\n",
    "#   df.to_csv(writer)"
   ]
  },
  {
   "cell_type": "code",
   "execution_count": 45,
   "id": "2e71e545-52ce-4729-805d-bedd5bdcfbe2",
   "metadata": {},
   "outputs": [],
   "source": [
    "# with client_hdfs.read(\"/aaa/helloworld.csv\", encoding='utf-8') as reader:\n",
    "#     data = reader.read()  # 读到内存\n",
    "#     # print(data)\n",
    "#     df_read = pd.read_csv(StringIO(data)) \n",
    "# df_read\n",
    "#     # bio = BytesIO(data)\n",
    "#     # print(bio)\n",
    "# #     print(TextIOWrapper(reader))\n",
    "# #     df_read = pd.read_csv(TextIOWrapper(reader))  # 需包装为文本流:ml-citation{ref=\"4,8\" data=\"citationList\"}\n",
    "# # # df_read"
   ]
  },
  {
   "cell_type": "code",
   "execution_count": 155,
   "id": "fdc735e6-591a-429c-9f8c-f75f4b599c3a",
   "metadata": {},
   "outputs": [],
   "source": [
    "# if len(sys.argv)<3:\n",
    "#     print(111)\n",
    "#     exit()"
   ]
  },
  {
   "cell_type": "code",
   "execution_count": 61,
   "id": "cc06d0ef-bfff-4721-a3c8-714df247d410",
   "metadata": {},
   "outputs": [
    {
     "name": "stdout",
     "output_type": "stream",
     "text": [
      "['/opt/conda/lib/python3.11/site-packages/ipykernel_launcher.py', '-f', '/home/jovyan/.local/share/jupyter/runtime/kernel-12416933-77a4-439c-bc6f-223dcfa1c223.json']\n"
     ]
    }
   ],
   "source": [
    "print(sys.argv)"
   ]
  },
  {
   "cell_type": "code",
   "execution_count": 147,
   "id": "fbda01cd-c486-4437-b060-c640d6068ea0",
   "metadata": {},
   "outputs": [
    {
     "name": "stdout",
     "output_type": "stream",
     "text": [
      "/ssd1/wy/workspace2/nextflow/bin\n"
     ]
    }
   ],
   "source": [
    "# !pwd"
   ]
  },
  {
   "cell_type": "code",
   "execution_count": 62,
   "id": "f31737eb-c20f-454f-b49b-dd7cb95b3b72",
   "metadata": {},
   "outputs": [],
   "source": [
    "def get_last(clade_name):\n",
    "    clade_name_list = clade_name.split('|')\n",
    "    return clade_name_list[len(clade_name_list)-1]\n",
    "def set_rank(taxonomy):\n",
    "    if taxonomy.startswith(\"t__\"):\n",
    "        return \"SGB\"\n",
    "    if taxonomy.startswith(\"s__\"):\n",
    "        return \"SPECIES\"\n",
    "    elif  taxonomy.startswith(\"g__\"):\n",
    "        return \"GENUS\"\n",
    "    elif  taxonomy.startswith(\"f__\"):\n",
    "        return \"FAMILY\"\n",
    "    elif  taxonomy.startswith(\"o__\"):\n",
    "        return \"ORDER\"\n",
    "    elif  taxonomy.startswith(\"c__\"):\n",
    "        return \"CLASS\"\n",
    "    elif  taxonomy.startswith(\"p__\"):\n",
    "        return \"PHYLUM\"\n",
    "    elif  taxonomy.startswith(\"k__\"):\n",
    "        return \"KINGDOM\"\n",
    "def rename_taxonomy(taxonomy):\n",
    "    if taxonomy.startswith(\"t__\"):\n",
    "        return taxonomy.replace(\"t__\",\"\").replace(\"_\",\" \")\n",
    "    if taxonomy.startswith(\"s__\"):\n",
    "        return taxonomy.replace(\"s__\",\"\").replace(\"_\",\" \")\n",
    "    elif  taxonomy.startswith(\"g__\"):\n",
    "        return taxonomy.replace(\"g__\",\"\").replace(\"_\",\" \")\n",
    "    elif  taxonomy.startswith(\"f__\"):\n",
    "        return taxonomy.replace(\"f__\",\"\").replace(\"_\",\" \")\n",
    "    elif  taxonomy.startswith(\"o__\"):\n",
    "        return taxonomy.replace(\"o__\",\"\").replace(\"_\",\" \")\n",
    "    elif  taxonomy.startswith(\"c__\"):\n",
    "        return taxonomy.replace(\"c__\",\"\").replace(\"_\",\" \")\n",
    "    elif  taxonomy.startswith(\"p__\"):\n",
    "        return taxonomy.replace(\"p__\",\"\").replace(\"_\",\" \")\n",
    "    elif  taxonomy.startswith(\"k__\"):\n",
    "        return taxonomy.replace(\"k__\",\"\").replace(\"_\",\" \")"
   ]
  },
  {
   "cell_type": "code",
   "execution_count": 36,
   "id": "20f21d22-a75c-43c8-b996-3383185bd032",
   "metadata": {},
   "outputs": [],
   "source": [
    "# 域（Domain）、界（Kingdom）、门（Phylum）、纲（Class）、目（Order）、科（Family）、属（Genus）、种（Species）\n",
    "# k__Bacteria|p__Fusobacteria|c__Fusobacteriia|o__Fusobacteriales|f__Fusobacteriaceae|g__Fusobacterium|s__Fusobacterium_nucleatum|t__SGB6001"
   ]
  },
  {
   "cell_type": "code",
   "execution_count": 63,
   "id": "791dc878-dc24-41ff-b240-1f6f25252682",
   "metadata": {},
   "outputs": [],
   "source": [
    "df_metaphlan = pd.read_csv(file_path ,sep=\"\\t\",comment=\"#\",header=None)\n",
    "# df_metaphlan = pd.read_csv(\"/ssd1/wy/workspace2/test/test_workspace/output/metaphlan/test_s1/test_s1_profile.txt\",sep=\"\\t\",comment=\"#\",header=None)"
   ]
  },
  {
   "cell_type": "code",
   "execution_count": 64,
   "id": "31893aa6-fc5c-47bc-9d82-72bedc28f02f",
   "metadata": {},
   "outputs": [
    {
     "data": {
      "text/html": [
       "<div>\n",
       "<style scoped>\n",
       "    .dataframe tbody tr th:only-of-type {\n",
       "        vertical-align: middle;\n",
       "    }\n",
       "\n",
       "    .dataframe tbody tr th {\n",
       "        vertical-align: top;\n",
       "    }\n",
       "\n",
       "    .dataframe thead th {\n",
       "        text-align: right;\n",
       "    }\n",
       "</style>\n",
       "<table border=\"1\" class=\"dataframe\">\n",
       "  <thead>\n",
       "    <tr style=\"text-align: right;\">\n",
       "      <th></th>\n",
       "      <th>taxonomy</th>\n",
       "      <th>tax_id</th>\n",
       "      <th>rank</th>\n",
       "      <th>relative_abundance</th>\n",
       "      <th>additional_species</th>\n",
       "    </tr>\n",
       "  </thead>\n",
       "  <tbody>\n",
       "    <tr>\n",
       "      <th>0</th>\n",
       "      <td>Bacteria</td>\n",
       "      <td>2</td>\n",
       "      <td>KINGDOM</td>\n",
       "      <td>100.00000</td>\n",
       "      <td>NaN</td>\n",
       "    </tr>\n",
       "    <tr>\n",
       "      <th>1</th>\n",
       "      <td>Bacteroidota</td>\n",
       "      <td>976</td>\n",
       "      <td>PHYLUM</td>\n",
       "      <td>63.49484</td>\n",
       "      <td>NaN</td>\n",
       "    </tr>\n",
       "    <tr>\n",
       "      <th>2</th>\n",
       "      <td>Fusobacteria</td>\n",
       "      <td>32066</td>\n",
       "      <td>PHYLUM</td>\n",
       "      <td>21.80173</td>\n",
       "      <td>NaN</td>\n",
       "    </tr>\n",
       "    <tr>\n",
       "      <th>3</th>\n",
       "      <td>Firmicutes</td>\n",
       "      <td>1239</td>\n",
       "      <td>PHYLUM</td>\n",
       "      <td>13.94820</td>\n",
       "      <td>NaN</td>\n",
       "    </tr>\n",
       "    <tr>\n",
       "      <th>4</th>\n",
       "      <td>Candidatus Absconditabacteria</td>\n",
       "      <td>221235</td>\n",
       "      <td>PHYLUM</td>\n",
       "      <td>0.75523</td>\n",
       "      <td>NaN</td>\n",
       "    </tr>\n",
       "    <tr>\n",
       "      <th>...</th>\n",
       "      <td>...</td>\n",
       "      <td>...</td>\n",
       "      <td>...</td>\n",
       "      <td>...</td>\n",
       "      <td>...</td>\n",
       "    </tr>\n",
       "    <tr>\n",
       "      <th>75</th>\n",
       "      <td>SGB95409</td>\n",
       "      <td></td>\n",
       "      <td>SGB</td>\n",
       "      <td>0.96208</td>\n",
       "      <td>NaN</td>\n",
       "    </tr>\n",
       "    <tr>\n",
       "      <th>76</th>\n",
       "      <td>SGB6826</td>\n",
       "      <td></td>\n",
       "      <td>SGB</td>\n",
       "      <td>0.80630</td>\n",
       "      <td>NaN</td>\n",
       "    </tr>\n",
       "    <tr>\n",
       "      <th>77</th>\n",
       "      <td>SGB6891</td>\n",
       "      <td></td>\n",
       "      <td>SGB</td>\n",
       "      <td>0.75523</td>\n",
       "      <td>NaN</td>\n",
       "    </tr>\n",
       "    <tr>\n",
       "      <th>78</th>\n",
       "      <td>SGB6069</td>\n",
       "      <td></td>\n",
       "      <td>SGB</td>\n",
       "      <td>0.73259</td>\n",
       "      <td>NaN</td>\n",
       "    </tr>\n",
       "    <tr>\n",
       "      <th>79</th>\n",
       "      <td>SGB4503</td>\n",
       "      <td></td>\n",
       "      <td>SGB</td>\n",
       "      <td>0.45314</td>\n",
       "      <td>NaN</td>\n",
       "    </tr>\n",
       "  </tbody>\n",
       "</table>\n",
       "<p>80 rows × 5 columns</p>\n",
       "</div>"
      ],
      "text/plain": [
       "                         taxonomy  tax_id     rank  relative_abundance  \\\n",
       "0                        Bacteria       2  KINGDOM           100.00000   \n",
       "1                    Bacteroidota     976   PHYLUM            63.49484   \n",
       "2                    Fusobacteria   32066   PHYLUM            21.80173   \n",
       "3                      Firmicutes    1239   PHYLUM            13.94820   \n",
       "4   Candidatus Absconditabacteria  221235   PHYLUM             0.75523   \n",
       "..                            ...     ...      ...                 ...   \n",
       "75                       SGB95409              SGB             0.96208   \n",
       "76                        SGB6826              SGB             0.80630   \n",
       "77                        SGB6891              SGB             0.75523   \n",
       "78                        SGB6069              SGB             0.73259   \n",
       "79                        SGB4503              SGB             0.45314   \n",
       "\n",
       "   additional_species  \n",
       "0                 NaN  \n",
       "1                 NaN  \n",
       "2                 NaN  \n",
       "3                 NaN  \n",
       "4                 NaN  \n",
       "..                ...  \n",
       "75                NaN  \n",
       "76                NaN  \n",
       "77                NaN  \n",
       "78                NaN  \n",
       "79                NaN  \n",
       "\n",
       "[80 rows x 5 columns]"
      ]
     },
     "execution_count": 64,
     "metadata": {},
     "output_type": "execute_result"
    }
   ],
   "source": [
    "df_metaphlan.columns = [\"clade_name\",\"ncbi_tax_id\",\"relative_abundance\",\"additional_species\"]\n",
    "df_metaphlan['taxonomy'] = df_metaphlan.apply(lambda x : get_last(x['clade_name']) ,axis=1)\n",
    "df_metaphlan['tax_id'] = df_metaphlan.apply(lambda x : get_last(x['ncbi_tax_id']) ,axis=1)\n",
    "df_metaphlan['rank'] = df_metaphlan.apply(lambda x : set_rank(x['taxonomy']) ,axis=1)\n",
    "\n",
    "df_metaphlan['taxonomy'] = df_metaphlan.apply(lambda x : rename_taxonomy(x['taxonomy']) ,axis=1)\n",
    "df_metaphlan = df_metaphlan[['taxonomy','tax_id','rank','relative_abundance','additional_species']]\n",
    "df_metaphlan"
   ]
  },
  {
   "cell_type": "code",
   "execution_count": 76,
   "id": "c7784841-a6cf-4a4d-aff3-2b5c243b25ee",
   "metadata": {},
   "outputs": [
    {
     "name": "stdout",
     "output_type": "stream",
     "text": [
      "/workspace/test/metaphlan/test1.tsv\n"
     ]
    }
   ],
   "source": [
    "print(content_path)"
   ]
  },
  {
   "cell_type": "code",
   "execution_count": 75,
   "id": "fe66cd70-437a-4173-8526-4f15d33a2fef",
   "metadata": {},
   "outputs": [],
   "source": [
    "with client_hdfs.write(content_path, encoding = 'utf-8', overwrite=True) as writer:\n",
    "  df_metaphlan.to_csv(writer,sep=\"\\t\",index=False)"
   ]
  },
  {
   "cell_type": "code",
   "execution_count": 67,
   "id": "3a33f97e-81af-4158-b4dd-458eb71e204b",
   "metadata": {},
   "outputs": [
    {
     "name": "stdout",
     "output_type": "stream",
     "text": [
      "rank\n",
      "CLASS      100.00000\n",
      "FAMILY     100.00000\n",
      "GENUS       99.99999\n",
      "KINGDOM    100.00000\n",
      "ORDER      100.00000\n",
      "PHYLUM     100.00000\n",
      "SGB         99.99999\n",
      "SPECIES     99.99999\n",
      "Name: relative_abundance, dtype: float64\n"
     ]
    }
   ],
   "source": [
    "# df_metaphlan['rank'].value_counts()\n",
    "# df_metaphlan[df_metaphlan['rank']=='SPECIES']['relative_abundance'].sum()\n",
    "print(df_metaphlan.groupby(\"rank\")['relative_abundance'].sum())"
   ]
  },
  {
   "cell_type": "code",
   "execution_count": 88,
   "id": "0ba0c186-fff9-4565-91ac-777621b37deb",
   "metadata": {},
   "outputs": [],
   "source": [
    "# df_metaphlan.to_json()"
   ]
  },
  {
   "cell_type": "code",
   "execution_count": 89,
   "id": "1852057b-718a-40af-8c83-444229561eff",
   "metadata": {},
   "outputs": [],
   "source": [
    "# insert_data = [(row['sample_key'],row['sample_name'],row['fastq1'],row['fastq2'],\"leipu_meta\") for index,row in df_fastq.iterrows()]\n",
    "# insert_data\n",
    "# print()"
   ]
  },
  {
   "cell_type": "code",
   "execution_count": 77,
   "id": "c7605f72-25b9-4c04-88f5-77c0f5142852",
   "metadata": {},
   "outputs": [
    {
     "name": "stdout",
     "output_type": "stream",
     "text": [
      "\n",
      "INSERT INTO abundance (sample_key, sample_name,project, content_path,software)\n",
      "VALUES (%s,%s, %s,%s,%s)\n",
      "ON DUPLICATE KEY UPDATE \n",
      "    sample_name = VALUES(sample_name), \n",
      "    project = VALUES(project), \n",
      "    software = VALUES(software), \n",
      "    content_path = VALUES(content_path);\n",
      "\n"
     ]
    }
   ],
   "source": [
    "insert_sql = \"\"\"\n",
    "INSERT INTO abundance (sample_key, sample_name,project, content_path,software,data_version)\n",
    "VALUES (%s,%s, %s,%s,%s,%s)\n",
    "ON DUPLICATE KEY UPDATE \n",
    "    sample_name = VALUES(sample_name), \n",
    "    project = VALUES(project), \n",
    "    software = VALUES(software), \n",
    "    data_version = VALUES(data_version), \n",
    "    content_path = VALUES(content_path);\n",
    "\"\"\"\n",
    "print(insert_sql)"
   ]
  },
  {
   "cell_type": "code",
   "execution_count": null,
   "id": "b339ae25-9395-4d6a-9514-a4620dd49eaf",
   "metadata": {},
   "outputs": [],
   "source": []
  },
  {
   "cell_type": "code",
   "execution_count": 78,
   "id": "8435aac1-be04-4ae6-95a4-cf5ef7b33dd9",
   "metadata": {},
   "outputs": [],
   "source": [
    "conn = pymysql.connect(\n",
    "    host='10.110.1.11',    \n",
    "    user='root',         \n",
    "    password='123456',   \n",
    "    database='pipeline',  \n",
    "    port=53306,         \n",
    ")\n",
    "cursor = conn.cursor()\n",
    "data = (sample_key,sample_name,project,content_path,\"metaphlan\",data_version)\n",
    "cursor.execute(insert_sql, data) \n",
    "conn.commit()\n"
   ]
  },
  {
   "cell_type": "code",
   "execution_count": 110,
   "id": "71ab8210-20ea-47ef-a3a4-4e6f603a1a93",
   "metadata": {},
   "outputs": [],
   "source": [
    "# conn.close()"
   ]
  },
  {
   "cell_type": "code",
   "execution_count": 138,
   "id": "7fa2e93a-cd67-450f-90d2-36afd9403db0",
   "metadata": {},
   "outputs": [],
   "source": [
    "# cursor.execute(\"SELECT * FROM abundance where sample_key=%s\",(\"test_s1_profile\"))\n",
    "# rows = cursor.fetchall()\n",
    "# # rows.content\n",
    "# # columns = [desc[0] for desc in cursor.description] \n",
    "# # pd.DataFrame(rows,columns=columns)\n",
    "# # pd.DataFrame()\n",
    "\n",
    "# pd.read_json(rows[0][4])"
   ]
  },
  {
   "cell_type": "code",
   "execution_count": null,
   "id": "16df35eb-c31a-41dd-8842-90c9dd2ddb48",
   "metadata": {},
   "outputs": [],
   "source": []
  },
  {
   "cell_type": "code",
   "execution_count": 139,
   "id": "1e388f87-6380-4c7d-82d8-bb3d2696b043",
   "metadata": {},
   "outputs": [],
   "source": [
    "conn.close()"
   ]
  },
  {
   "cell_type": "code",
   "execution_count": 163,
   "id": "ebd2e2ee-b0e4-4a01-99ba-47626292bed5",
   "metadata": {},
   "outputs": [],
   "source": [
    "# df_metaphlan.to_json(orient=\"records\")"
   ]
  }
 ],
 "metadata": {
  "kernelspec": {
   "display_name": "Python 3 (ipykernel)",
   "language": "python",
   "name": "python3"
  },
  "language_info": {
   "codemirror_mode": {
    "name": "ipython",
    "version": 3
   },
   "file_extension": ".py",
   "mimetype": "text/x-python",
   "name": "python",
   "nbconvert_exporter": "python",
   "pygments_lexer": "ipython3",
   "version": "3.11.6"
  }
 },
 "nbformat": 4,
 "nbformat_minor": 5
}
